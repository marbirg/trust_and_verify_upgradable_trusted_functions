{
 "cells": [
  {
   "cell_type": "code",
   "execution_count": 14,
   "id": "e802fdf2-74d5-4b53-8916-10294ab7995d",
   "metadata": {},
   "outputs": [
    {
     "name": "stdout",
     "output_type": "stream",
     "text": [
      "52.136.212.149\n",
      "12341\n",
      "{\"Hello\":\"World\"}\n"
     ]
    }
   ],
   "source": [
    "\"\"\" Test block for connectivity \"\"\"\n",
    "import requests\n",
    "import local_config as config\n",
    "print(config.IP)\n",
    "print(config.PORT)\n",
    "URL='http://'+config.IP+':'+str(config.PORT)\n",
    "r = requests.get(url = URL)\n",
    "print(r.text)"
   ]
  },
  {
   "cell_type": "code",
   "execution_count": 25,
   "id": "cda6e3c6-1d73-4be6-9d26-933e67c7e375",
   "metadata": {},
   "outputs": [
    {
     "name": "stdout",
     "output_type": "stream",
     "text": [
      "Deploying:\n",
      "if x < y {\n",
      "  return y;\n",
      "} else {\n",
      "  return x;\n",
      "}\n",
      "\n",
      "------\n",
      "{\"name\": \"Max\", \"body\": \"if x < y {\\n  return y;\\n} else {\\n  return x;\\n}\\n\"}\n",
      "\"Max verified with 0 errors\"\n",
      "All done\n"
     ]
    }
   ],
   "source": [
    "\"\"\" Deploy Max function \"\"\"\n",
    "import requests\n",
    "import json\n",
    "import local_config as config\n",
    "\n",
    "func_name = 'Max'\n",
    "with open('code/'+func_name+'.body', 'r') as f:\n",
    "    func = f.read()\n",
    "print(\"Deploying:\")\n",
    "print(func)\n",
    "print(\"------\")\n",
    "payload = {\n",
    "  \"name\": func_name,\n",
    "  \"body\": func\n",
    "}\n",
    "payload = json.dumps(payload)\n",
    "\n",
    "URL = config.URL+'/deploy'\n",
    "r = requests.post(url = URL, data=payload)\n",
    "print(r.text)\n",
    "print(\"All done\")"
   ]
  },
  {
   "cell_type": "code",
   "execution_count": 1,
   "id": "8edb489c-1eee-43e3-9e44-045ba00a808a",
   "metadata": {},
   "outputs": [
    {
     "name": "stdout",
     "output_type": "stream",
     "text": [
      "Deploying:\n",
      "return 1;\n",
      "\n",
      "------\n",
      "\"Verification did not succeed\"\n"
     ]
    }
   ],
   "source": [
    "\"\"\" Deploy FAULTY Max function \"\"\"\n",
    "import requests\n",
    "import json\n",
    "import local_config as config\n",
    "\n",
    "func_name = 'Max'\n",
    "with open('code/'+func_name+'.faulty.body', 'r') as f:\n",
    "    func = f.read()\n",
    "print(\"Deploying:\")\n",
    "print(func)\n",
    "print(\"------\")\n",
    "payload = {\n",
    "  \"name\": func_name,\n",
    "  \"body\": func\n",
    "}\n",
    "payload = json.dumps(payload)\n",
    "\n",
    "URL = config.URL+'/deploy'\n",
    "r = requests.post(url = URL, data=payload)\n",
    "print(r.text)"
   ]
  },
  {
   "cell_type": "code",
   "execution_count": 31,
   "id": "71745580-f51b-4024-8369-a911517cfab1",
   "metadata": {},
   "outputs": [
    {
     "name": "stdout",
     "output_type": "stream",
     "text": [
      "25\n",
      "All done\n"
     ]
    }
   ],
   "source": [
    "\"\"\" Run Max function \"\"\"\n",
    "import requests\n",
    "import json\n",
    "import local_config as config\n",
    "\n",
    "func_name = 'Max'\n",
    "a = 25\n",
    "b = -30\n",
    "\n",
    "URL = config.URL+'/max/'+str(a)+'/'+str(b)\n",
    "r = requests.get(url = URL)\n",
    "print(r.text)"
   ]
  },
  {
   "cell_type": "code",
   "execution_count": null,
   "id": "eabb41c8-511a-433c-97c7-228489522725",
   "metadata": {},
   "outputs": [],
   "source": []
  },
  {
   "cell_type": "code",
   "execution_count": 4,
   "id": "4dce8d5a-33cd-4d1d-abb7-a0f8ce42038b",
   "metadata": {},
   "outputs": [
    {
     "name": "stdout",
     "output_type": "stream",
     "text": [
      "Deploying:\n",
      "if x < 0 {\n",
      "  return -x;\n",
      "} else {\n",
      "  return x;\n",
      "}\n",
      "------\n",
      "\"Abs verified with 0 errors\"\n"
     ]
    }
   ],
   "source": [
    "\"\"\" Deploy Abs function \"\"\"\n",
    "import requests\n",
    "import json\n",
    "import local_config as config\n",
    "\n",
    "func_name = 'Abs'\n",
    "with open('code/'+func_name+'.body', 'r') as f:\n",
    "    func = f.read()\n",
    "print(\"Deploying:\")\n",
    "print(func)\n",
    "print(\"------\")\n",
    "payload = {\n",
    "  \"name\": func_name,\n",
    "  \"body\": func\n",
    "}\n",
    "payload = json.dumps(payload)\n",
    "\n",
    "URL = config.URL+'/deploy'\n",
    "r = requests.post(url = URL, data=payload)\n",
    "print(r.text)"
   ]
  },
  {
   "cell_type": "code",
   "execution_count": null,
   "id": "44247540-aaee-410e-b1a1-4e4ae5ed6e82",
   "metadata": {},
   "outputs": [],
   "source": []
  },
  {
   "cell_type": "code",
   "execution_count": 3,
   "id": "0299fc50-ad56-4854-8b2f-30e6d37abda0",
   "metadata": {},
   "outputs": [
    {
     "name": "stdout",
     "output_type": "stream",
     "text": [
      "Deploying:\n",
      "return 1;\n",
      "------\n",
      "\"Verification did not succeed\"\n"
     ]
    }
   ],
   "source": [
    "\"\"\" Deploy FAULTY Abs function \"\"\"\n",
    "import requests\n",
    "import json\n",
    "import local_config as config\n",
    "\n",
    "func_name = 'Abs'\n",
    "with open('code/'+func_name+'.faulty.body', 'r') as f:\n",
    "    func = f.read()\n",
    "print(\"Deploying:\")\n",
    "print(func)\n",
    "print(\"------\")\n",
    "payload = {\n",
    "  \"name\": func_name,\n",
    "  \"body\": func\n",
    "}\n",
    "payload = json.dumps(payload)\n",
    "\n",
    "URL = config.URL+'/deploy'\n",
    "r = requests.post(url = URL, data=payload)\n",
    "print(r.text)"
   ]
  },
  {
   "cell_type": "code",
   "execution_count": null,
   "id": "676a0ed3-b475-4768-80f9-7f3ec4a372dd",
   "metadata": {},
   "outputs": [],
   "source": []
  },
  {
   "cell_type": "code",
   "execution_count": 5,
   "id": "8c2d1ea2-f3d2-4cb5-a65a-7340d50ba64f",
   "metadata": {},
   "outputs": [
    {
     "name": "stdout",
     "output_type": "stream",
     "text": [
      "5\n"
     ]
    }
   ],
   "source": [
    "\"\"\" Run Abs function \"\"\"\n",
    "import requests\n",
    "import json\n",
    "import local_config as config\n",
    "\n",
    "a = -5\n",
    "\n",
    "URL = config.URL+'/abs/'+str(a)\n",
    "r = requests.get(url = URL)\n",
    "print(r.text)"
   ]
  },
  {
   "cell_type": "code",
   "execution_count": null,
   "id": "e1252e1b-9f6e-473a-b7a1-7d0382ea3369",
   "metadata": {},
   "outputs": [],
   "source": []
  },
  {
   "cell_type": "code",
   "execution_count": null,
   "id": "d0fd3fc1-ac25-4bf8-9167-e726ffe72aa5",
   "metadata": {},
   "outputs": [],
   "source": []
  },
  {
   "cell_type": "code",
   "execution_count": 22,
   "id": "58b3f4fb-3b72-48cd-ad21-65900e9e76ec",
   "metadata": {},
   "outputs": [
    {
     "name": "stdout",
     "output_type": "stream",
     "text": [
      "{\"name\": \"Sort\", \"body\": \"    var i := a.Length - 1;\\n    while(i > 0)\\n      invariant i < 0 ==> a.Length == 0 // ask\\n      invariant sorted(a, i, a.Length-1)\\n      invariant partitioned(a, i)\\n      {\\n        var j := 0;\\n        while (j < i)\\n          invariant 0 < i < a.Length && 0 <= j <= i\\n          invariant sorted(a, i, a.Length-1)\\n          invariant partitioned(a, i)\\n          invariant forall k :: 0 <= k <= j ==> a[k] <= a[j]\\n          {\\n            if(a[j] > a[j+1])\\n              {\\n                a[j], a[j+1] := a[j+1], a[j];\\n              }\\n              j := j + 1;\\n          }\\n          i := i -1;\\n      }\"}\n",
      "\"Sort verified with 0 errors\"\n"
     ]
    }
   ],
   "source": [
    "\"\"\" Deploy BubbleSort implementation \"\"\"\n",
    "import requests\n",
    "import json\n",
    "import local_config as config\n",
    "\n",
    "func_name = 'Sort'\n",
    "implementation = 'BubbleSort'\n",
    "with open('code/'+implementation+'.body', 'r') as f:\n",
    "    func = f.read()\n",
    "payload = {\n",
    "  \"name\": func_name,\n",
    "  \"body\": func\n",
    "}\n",
    "payload = json.dumps(payload)\n",
    "\n",
    "URL = config.URL+'/deploy'\n",
    "r = requests.post(url = URL, data=payload)\n",
    "print(r.text)"
   ]
  },
  {
   "cell_type": "code",
   "execution_count": 24,
   "id": "b31dafd2-9fd5-492c-b3bf-896b9378b293",
   "metadata": {},
   "outputs": [
    {
     "name": "stdout",
     "output_type": "stream",
     "text": [
      "[0,1,2,5]\n"
     ]
    }
   ],
   "source": [
    "import requests\n",
    "import json\n",
    "import local_config as config\n",
    "\n",
    "payload = {\n",
    "  \"value\": [1,2,5,0],\n",
    "}\n",
    "payload = json.dumps(payload)\n",
    "\n",
    "URL = config.URL+'/sort'\n",
    "r = requests.post(url = URL, data=payload)\n",
    "print(r.text)"
   ]
  },
  {
   "cell_type": "code",
   "execution_count": null,
   "id": "e485cf22-e1f6-474f-934f-e8344dc46987",
   "metadata": {},
   "outputs": [],
   "source": []
  },
  {
   "cell_type": "code",
   "execution_count": null,
   "id": "a37a4d14-f8f8-4cfb-8acf-23148ff8db8a",
   "metadata": {},
   "outputs": [],
   "source": []
  }
 ],
 "metadata": {
  "kernelspec": {
   "display_name": "Python 3 (ipykernel)",
   "language": "python",
   "name": "python3"
  },
  "language_info": {
   "codemirror_mode": {
    "name": "ipython",
    "version": 3
   },
   "file_extension": ".py",
   "mimetype": "text/x-python",
   "name": "python",
   "nbconvert_exporter": "python",
   "pygments_lexer": "ipython3",
   "version": "3.10.12"
  }
 },
 "nbformat": 4,
 "nbformat_minor": 5
}
